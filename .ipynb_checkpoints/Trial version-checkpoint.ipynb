{
 "cells": [
  {
   "cell_type": "code",
   "execution_count": 146,
   "metadata": {
    "scrolled": true
   },
   "outputs": [],
   "source": [
    "import requests\n",
    "import bs4\n",
    "from lxml import html\n",
    "from bs4 import BeautifulSoup\n",
    "from distutils.filelist import findall\n",
    "import requests\n",
    "import re\n",
    "import pandas as pd\n",
    "\n",
    "def Walmart(SKU, ZIP):\n",
    "    url = 'https://brickseek.com/walmart-inventory-checker/'\n",
    "    payload = {'search_method': 'sku', 'sku': SKU, 'zip': ZIP, 'sort': 'distance'}\n",
    "    df_record = pd.DataFrame(columns=['Store','City','Availability','Quantity'])\n",
    "    r = requests.post(url, data=payload).text    # Make a POST request with data\n",
    "\n",
    "\n",
    "    bs = BeautifulSoup(r, 'html.parser')\n",
    "    j=0\n",
    "    for tag in bs.find_all('div', class_='table__body'): \n",
    "        for i in range(10):\n",
    "            m_Store = tag.findAll('strong', class_='address-location-name')\n",
    "            m_Store = tag.findAll('strong', class_='address-location-name')\n",
    "            m=str(m_Store)\n",
    "            if i < m.count('/strong'):\n",
    "                m_s= m_Store[i].get_text().replace(\"\\nWalmart\",\"\")\n",
    "                m_add = tag.findAll('address',class_=\"address\")\n",
    "                m_Address = m_add[i].contents[2]      \n",
    "                m_Availability = tag.findAll('span',class_=\"availability-status-indicator__text\")\n",
    "                m_a = m_Availability[i].get_text()\n",
    "                if m_a =='Out of Stock':\n",
    "                    m_q = str(0)\n",
    "                    j=j-1\n",
    "                else:    \n",
    "                    m_Quantity = tag.findAll('span',class_=\"table__cell-quantity\")\n",
    "                    m_q = m_Quantity[j].get_text()[9:]\n",
    "                j=j+1\n",
    "                df_record = df_record.append({'Store':m_s, 'City':m_Address, 'Availability':m_a, 'Quantity':m_q }, ignore_index=True)\n",
    "            else:\n",
    "                print(df_record)\n",
    "                if len(df_record) == 0:\n",
    "                    print(\"No result found\")\n",
    "                print()\n",
    "                break\n",
    "\n",
    "def WalmartKeywords(keywords,ZIP):\n",
    "    url = \"http://www.walmart.com/search/?query=\"\n",
    "    r = requests.post(url+keywords).text\n",
    "    bs = BeautifulSoup(r, 'html.parser')\n",
    "    result = re.findall(r'href=\"/ip/(.*?)\"', str(bs))\n",
    "    result = [item for item in result if not(\"#customer-reviews\" in item)]\n",
    "    result = list(dict.fromkeys(result))\n",
    "    df = pd.DataFrame(result)\n",
    "    df.columns = {\"product\"}\n",
    "    df[['product','sku']] = df['product'].str.split(\"/\",expand=True) \n",
    "    df['product'] = df['product'].str.replace(\"-\",\" \")\n",
    "\n",
    "    for resultitem in range(0,len(df)):\n",
    "        print(str(resultitem) + \": \" + df['product'][resultitem])\n",
    "    print()\n",
    "    print(\"Type in the index (number) of your requested item: \")\n",
    "    requestitem = int(input())\n",
    "    Walmart(df['sku'][requestitem],ZIP)\n",
    "    return()\n",
    "\n",
    "\n",
    "\n",
    "def Target(SKU, ZIP):\n",
    "    SKU=str(SKU)\n",
    "    if '-' not in SKU:\n",
    "        SKU = ('{}-{}-{}'.format(SKU[0:3], SKU[3:5], SKU[5:9]))\n",
    "    url = 'https://brickseek.com/target-inventory-checker/'\n",
    "    payload = {'search_method': 'sku', 'sku': SKU, 'zip': ZIP, 'sort': 'distance'}\n",
    "\n",
    "    r = requests.post(url, data=payload).text    # Make a POST request with data\n",
    "\n",
    "    bs = BeautifulSoup(r, 'html.parser')\n",
    "    print(\" Store                Availability      Quantity \")\n",
    "    j=0\n",
    "    for tag in bs.find_all('div', class_='table__body'): \n",
    "        for i in range(10):\n",
    "            #print(tag)\n",
    "            m_Store = tag.findAll('strong', class_='address-location-name')\n",
    "            m=str(m_Store)\n",
    "            if i < m.count('/strong'):\n",
    "                m_s= m_Store[i].get_text()\n",
    "                m_add = tag.findAll('address',class_=\"address\")\n",
    "                m_Address = m_add[i].contents[0]      \n",
    "                m_Availability = tag.findAll('span',class_=\"availability-status-indicator__text\")\n",
    "                m_a = m_Availability[i].get_text()\n",
    "                m_q = 'Unknown'\n",
    "                j=j+1\n",
    "                print( m_s+\"   \"  +  m_Address   + \"      \" + m_a + \"        \" + m_q ) \n",
    "            else:break"
   ]
  },
  {
   "cell_type": "code",
   "execution_count": 151,
   "metadata": {
    "scrolled": true
   },
   "outputs": [
    {
     "name": "stdout",
     "output_type": "stream",
     "text": [
      "0: LEGO Creator Expert Bookshop 10270 Modular Building Kit Big LEGO Set and Collectors Toy for Adults 2 504 Pieces\n",
      "1: LEGO Technic Fast Furious Dom s Dodge Charger 42111 Race Car Building Set 1077 Pieces\n",
      "2: LEGO City Passenger Train nbsp 60197\n",
      "3: LEGO Minecraft The Blaze Bridge 21154 Toy Battle Building Set 370 Pieces\n",
      "\n",
      "Type in the index (number) of your requested item: \n",
      "1\n"
     ]
    },
    {
     "data": {
      "text/plain": [
       "()"
      ]
     },
     "execution_count": 151,
     "metadata": {},
     "output_type": "execute_result"
    }
   ],
   "source": [
    "WalmartKeywords(\"Lego\",96848)"
   ]
  },
  {
   "cell_type": "markdown",
   "metadata": {},
   "source": [
    "### question above: return nothing when selecting some items in the shop"
   ]
  },
  {
   "cell_type": "code",
   "execution_count": 142,
   "metadata": {
    "scrolled": false
   },
   "outputs": [
    {
     "name": "stdout",
     "output_type": "stream",
     "text": [
      "0: Nintendo Switch Lite Console Turquoise\n",
      "1: Nintendo 2DS System with Super Mario Maker Pre Installed Yellow Red FTRSYBDW\n",
      "2: Super Mario Odyssey Nintendo Nintendo Switch 045496590741\n",
      "3: Nintendo Switch Gaming Console Neon Blue and Neon Red Joy Con Bundle with Mario Kart Deluxe 8\n",
      "4: Nintendo Switch Bundle with Mario Kart 8 Deluxe Gray\n",
      "5: Nintendo Universal Super NES Classic Edition\n",
      "6: Nintendo Switch Joy Con Pair Neon Pink and Neon Green\n",
      "7: NES Classic Mini EU Console\n",
      "8: Animal Crossing New Horizons Nintendo Nintendo Switch 045496596439\n",
      "9: Super Nintendo Entertainment System SNES Classic Edition\n",
      "\n",
      "input your requested item index: \n",
      "0\n",
      "            Store                  City  Availability Quantity\n",
      "0  Walmart #3478     Honolulu HI 96814   Out of Stock        0\n",
      "1  Walmart #3149     Honolulu HI 96813   Out of Stock        0\n",
      "2  Walmart #5274   Pearl City HI 96782   Out of Stock        0\n",
      "3  Walmart #2314      Waipahu HI 96797   Out of Stock        0\n",
      "4  Walmart #2126     Mililani HI 96789   Out of Stock        0\n",
      "5  Walmart #3883      Kapolei HI 96707   Out of Stock        0\n",
      "6  Walmart #3290      Kahului HI 96732       In Stock       6+\n",
      "\n"
     ]
    },
    {
     "data": {
      "text/plain": [
       "()"
      ]
     },
     "execution_count": 142,
     "metadata": {},
     "output_type": "execute_result"
    }
   ],
   "source": [
    "WalmartKeywords(\"Nintendo\",96848)"
   ]
  },
  {
   "cell_type": "code",
   "execution_count": null,
   "metadata": {},
   "outputs": [],
   "source": []
  },
  {
   "cell_type": "code",
   "execution_count": null,
   "metadata": {},
   "outputs": [],
   "source": []
  },
  {
   "cell_type": "code",
   "execution_count": null,
   "metadata": {},
   "outputs": [],
   "source": []
  },
  {
   "cell_type": "code",
   "execution_count": null,
   "metadata": {},
   "outputs": [],
   "source": []
  },
  {
   "cell_type": "code",
   "execution_count": null,
   "metadata": {},
   "outputs": [],
   "source": []
  },
  {
   "cell_type": "markdown",
   "metadata": {},
   "source": [
    "## Below are tests"
   ]
  },
  {
   "cell_type": "code",
   "execution_count": 48,
   "metadata": {},
   "outputs": [],
   "source": [
    "import requests\n",
    "import re\n",
    "import pandas as pd"
   ]
  },
  {
   "cell_type": "code",
   "execution_count": 7,
   "metadata": {},
   "outputs": [],
   "source": [
    "url = \"http://www.walmart.com/search/?query=\"\n",
    "r = requests.get(url+\"nintendo\")"
   ]
  },
  {
   "cell_type": "code",
   "execution_count": 15,
   "metadata": {},
   "outputs": [],
   "source": [
    "r = requests.post(url+\"nintendo\").text"
   ]
  },
  {
   "cell_type": "code",
   "execution_count": 17,
   "metadata": {},
   "outputs": [],
   "source": [
    "bs = BeautifulSoup(r, 'html.parser')"
   ]
  },
  {
   "cell_type": "code",
   "execution_count": 35,
   "metadata": {},
   "outputs": [],
   "source": [
    "#result = re.findall(r'productPageUrl\":\"/ip/(.*?)\",\"', str(bs))"
   ]
  },
  {
   "cell_type": "code",
   "execution_count": 41,
   "metadata": {},
   "outputs": [],
   "source": [
    "url = \"http://www.walmart.com/search/?query=\"\n",
    "r = requests.post(url+keywords).text\n",
    "bs = BeautifulSoup(r, 'html.parser')\n",
    "result = re.findall(r'href=\"/ip/(.*?)\"', str(bs))\n",
    "result = [item for item in result if not(\"#customer-reviews\" in item)]\n",
    "result = list(dict.fromkeys(result))\n",
    "df = pd.DataFrame(result)\n",
    "df.columns = {\"product\"}\n",
    "df[['product','sku']] = df['product'].str.split(\"/\",expand=True) \n",
    "df['product'] = df['product'].str.replace(\"-\",\" \")\n"
   ]
  },
  {
   "cell_type": "code",
   "execution_count": 43,
   "metadata": {},
   "outputs": [],
   "source": [
    "result = list(dict.fromkeys(result))"
   ]
  },
  {
   "cell_type": "code",
   "execution_count": 73,
   "metadata": {
    "scrolled": false
   },
   "outputs": [],
   "source": [
    "df = pd.DataFrame(result) "
   ]
  },
  {
   "cell_type": "code",
   "execution_count": 74,
   "metadata": {},
   "outputs": [],
   "source": [
    "df.columns = {\"product\"}"
   ]
  },
  {
   "cell_type": "code",
   "execution_count": 76,
   "metadata": {},
   "outputs": [],
   "source": [
    "df[['product','sku']] = df['product'].str.split(\"/\",expand=True) "
   ]
  },
  {
   "cell_type": "code",
   "execution_count": 78,
   "metadata": {},
   "outputs": [],
   "source": [
    "df['product'] = df['product'].str.replace(\"-\",\" \")"
   ]
  },
  {
   "cell_type": "code",
   "execution_count": 85,
   "metadata": {},
   "outputs": [
    {
     "data": {
      "text/plain": [
       "'55432571'"
      ]
     },
     "execution_count": 85,
     "metadata": {},
     "output_type": "execute_result"
    }
   ],
   "source": [
    "df['sku'][9]"
   ]
  },
  {
   "cell_type": "code",
   "execution_count": 120,
   "metadata": {},
   "outputs": [
    {
     "data": {
      "text/plain": [
       "'Nintendo-Universal-Super-NES-Classic-Edition/410336025'"
      ]
     },
     "execution_count": 120,
     "metadata": {},
     "output_type": "execute_result"
    }
   ],
   "source": [
    "result[5]"
   ]
  },
  {
   "cell_type": "code",
   "execution_count": 99,
   "metadata": {},
   "outputs": [],
   "source": [
    "dftest = pd.DataFrame(columns = ['a','b','c'])"
   ]
  },
  {
   "cell_type": "code",
   "execution_count": 103,
   "metadata": {},
   "outputs": [
    {
     "data": {
      "text/html": [
       "<div>\n",
       "<style scoped>\n",
       "    .dataframe tbody tr th:only-of-type {\n",
       "        vertical-align: middle;\n",
       "    }\n",
       "\n",
       "    .dataframe tbody tr th {\n",
       "        vertical-align: top;\n",
       "    }\n",
       "\n",
       "    .dataframe thead th {\n",
       "        text-align: right;\n",
       "    }\n",
       "</style>\n",
       "<table border=\"1\" class=\"dataframe\">\n",
       "  <thead>\n",
       "    <tr style=\"text-align: right;\">\n",
       "      <th></th>\n",
       "      <th>a</th>\n",
       "      <th>b</th>\n",
       "      <th>c</th>\n",
       "    </tr>\n",
       "  </thead>\n",
       "  <tbody>\n",
       "  </tbody>\n",
       "</table>\n",
       "</div>"
      ],
      "text/plain": [
       "Empty DataFrame\n",
       "Columns: [a, b, c]\n",
       "Index: []"
      ]
     },
     "execution_count": 103,
     "metadata": {},
     "output_type": "execute_result"
    }
   ],
   "source": [
    "dftest.append()"
   ]
  },
  {
   "cell_type": "code",
   "execution_count": null,
   "metadata": {},
   "outputs": [],
   "source": []
  }
 ],
 "metadata": {
  "kernelspec": {
   "display_name": "Python 3",
   "language": "python",
   "name": "python3"
  },
  "language_info": {
   "codemirror_mode": {
    "name": "ipython",
    "version": 3
   },
   "file_extension": ".py",
   "mimetype": "text/x-python",
   "name": "python",
   "nbconvert_exporter": "python",
   "pygments_lexer": "ipython3",
   "version": "3.7.0"
  }
 },
 "nbformat": 4,
 "nbformat_minor": 2
}
